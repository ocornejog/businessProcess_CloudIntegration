{
 "cells": [
  {
   "cell_type": "code",
   "execution_count": 1,
   "id": "b5820bed",
   "metadata": {},
   "outputs": [
    {
     "name": "stdout",
     "output_type": "stream",
     "text": [
      "Defaulting to user installation because normal site-packages is not writeable\n",
      "Requirement already satisfied: pika in c:\\users\\oscar\\appdata\\roaming\\python\\python39\\site-packages (1.3.2)\n"
     ]
    }
   ],
   "source": [
    "!pip install pika"
   ]
  },
  {
   "cell_type": "code",
   "execution_count": 2,
   "id": "c0ae69ee",
   "metadata": {},
   "outputs": [
    {
     "name": "stdout",
     "output_type": "stream",
     "text": [
      "Connected to RabbitMQ\n"
     ]
    }
   ],
   "source": [
    "import pika\n",
    "\n",
    "# Establish connection\n",
    "connection = pika.BlockingConnection(pika.ConnectionParameters('localhost'))\n",
    "channel = connection.channel()\n",
    "\n",
    "print(\"Connected to RabbitMQ\")"
   ]
  },
  {
   "cell_type": "code",
   "execution_count": 3,
   "id": "a8ba4da9",
   "metadata": {},
   "outputs": [
    {
     "name": "stdout",
     "output_type": "stream",
     "text": [
      "Queue declared: test_queue\n"
     ]
    }
   ],
   "source": [
    "channel.queue_declare(queue='test_queue')\n",
    "print(\"Queue declared: test_queue\")"
   ]
  },
  {
   "cell_type": "code",
   "execution_count": 4,
   "id": "c5bc23f1",
   "metadata": {},
   "outputs": [
    {
     "name": "stdout",
     "output_type": "stream",
     "text": [
      "Sent message: Hello from Jupyter!\n"
     ]
    }
   ],
   "source": [
    "channel.basic_publish(exchange='', routing_key='test_queue', body='Hello from Jupyter!')\n",
    "print(\"Sent message: Hello from Jupyter!\")"
   ]
  },
  {
   "cell_type": "code",
   "execution_count": 5,
   "id": "dfae5351",
   "metadata": {},
   "outputs": [
    {
     "name": "stdout",
     "output_type": "stream",
     "text": [
      "Waiting for messages... Run next cell to consume.\n"
     ]
    }
   ],
   "source": [
    "def callback(ch, method, properties, body):\n",
    "    print(f\" [✓] Received: {body.decode()}\")\n",
    "\n",
    "channel.basic_consume(queue='test_queue', on_message_callback=callback, auto_ack=True)\n",
    "print(\"Waiting for messages... Run next cell to consume.\")"
   ]
  },
  {
   "cell_type": "code",
   "execution_count": 6,
   "id": "93d0f138",
   "metadata": {},
   "outputs": [
    {
     "name": "stdout",
     "output_type": "stream",
     "text": [
      "Listening for messages... Press 'STOP' in Jupyter to stop.\n",
      " [✓] Received: Hello from Jupyter!\n",
      "Stopped consuming.\n"
     ]
    }
   ],
   "source": [
    "print(\"Listening for messages... Press 'STOP' in Jupyter to stop.\")\n",
    "try:\n",
    "    channel.start_consuming()\n",
    "except KeyboardInterrupt:\n",
    "    print(\"Stopped consuming.\")"
   ]
  },
  {
   "cell_type": "code",
   "execution_count": 12,
   "id": "c12d2227",
   "metadata": {},
   "outputs": [
    {
     "ename": "ConnectionWrongStateError",
     "evalue": "BlockingConnection.close(200, 'Normal shutdown') called on closed connection.",
     "output_type": "error",
     "traceback": [
      "\u001b[1;31m---------------------------------------------------------------------------\u001b[0m",
      "\u001b[1;31mConnectionWrongStateError\u001b[0m                 Traceback (most recent call last)",
      "Input \u001b[1;32mIn [12]\u001b[0m, in \u001b[0;36m<cell line: 2>\u001b[1;34m()\u001b[0m\n\u001b[0;32m      1\u001b[0m channel\u001b[38;5;241m.\u001b[39mstop_consuming()\n\u001b[1;32m----> 2\u001b[0m \u001b[43mconnection\u001b[49m\u001b[38;5;241;43m.\u001b[39;49m\u001b[43mclose\u001b[49m\u001b[43m(\u001b[49m\u001b[43m)\u001b[49m\n\u001b[0;32m      3\u001b[0m \u001b[38;5;28mprint\u001b[39m(\u001b[38;5;124m\"\u001b[39m\u001b[38;5;124mRabbitMQ connection closed.\u001b[39m\u001b[38;5;124m\"\u001b[39m)\n",
      "File \u001b[1;32m~\\AppData\\Roaming\\Python\\Python39\\site-packages\\pika\\adapters\\blocking_connection.py:800\u001b[0m, in \u001b[0;36mBlockingConnection.close\u001b[1;34m(self, reply_code, reply_text)\u001b[0m\n\u001b[0;32m    797\u001b[0m     msg \u001b[38;5;241m=\u001b[39m \u001b[38;5;124m'\u001b[39m\u001b[38;5;132;01m{}\u001b[39;00m\u001b[38;5;124m.close(\u001b[39m\u001b[38;5;132;01m{}\u001b[39;00m\u001b[38;5;124m, \u001b[39m\u001b[38;5;132;01m{!r}\u001b[39;00m\u001b[38;5;124m) called on closed connection.\u001b[39m\u001b[38;5;124m'\u001b[39m\u001b[38;5;241m.\u001b[39mformat(\n\u001b[0;32m    798\u001b[0m         \u001b[38;5;28mself\u001b[39m\u001b[38;5;241m.\u001b[39m\u001b[38;5;18m__class__\u001b[39m\u001b[38;5;241m.\u001b[39m\u001b[38;5;18m__name__\u001b[39m, reply_code, reply_text)\n\u001b[0;32m    799\u001b[0m     LOGGER\u001b[38;5;241m.\u001b[39merror(msg)\n\u001b[1;32m--> 800\u001b[0m     \u001b[38;5;28;01mraise\u001b[39;00m exceptions\u001b[38;5;241m.\u001b[39mConnectionWrongStateError(msg)\n\u001b[0;32m    802\u001b[0m LOGGER\u001b[38;5;241m.\u001b[39minfo(\u001b[38;5;124m'\u001b[39m\u001b[38;5;124mClosing connection (\u001b[39m\u001b[38;5;132;01m%s\u001b[39;00m\u001b[38;5;124m): \u001b[39m\u001b[38;5;132;01m%s\u001b[39;00m\u001b[38;5;124m'\u001b[39m, reply_code, reply_text)\n\u001b[0;32m    804\u001b[0m \u001b[38;5;66;03m# Close channels that remain opened\u001b[39;00m\n",
      "\u001b[1;31mConnectionWrongStateError\u001b[0m: BlockingConnection.close(200, 'Normal shutdown') called on closed connection."
     ]
    }
   ],
   "source": [
    "channel.stop_consuming()\n",
    "connection.close()\n",
    "print(\"RabbitMQ connection closed.\")"
   ]
  },
  {
   "cell_type": "markdown",
   "id": "deec3bbf",
   "metadata": {},
   "source": [
    "## Worker"
   ]
  },
  {
   "cell_type": "code",
   "execution_count": 18,
   "id": "cb0a8bb4",
   "metadata": {},
   "outputs": [
    {
     "name": "stdout",
     "output_type": "stream",
     "text": [
      " [*] Waiting for RPC requests... Run the next cell to send a request.\n"
     ]
    }
   ],
   "source": [
    "import time\n",
    "\n",
    "def on_request(ch, method, properties, body):\n",
    "    message = body.decode()\n",
    "    print(f\" [✓] Received request: {message}\")\n",
    "    \n",
    "    response = f\"Processed: {message.upper()}\"  # Process the request\n",
    "    \n",
    "    time.sleep(2)  # Simulate processing delay\n",
    "\n",
    "    ch.basic_publish(exchange='',\n",
    "                     routing_key=properties.reply_to,\n",
    "                     properties=pika.BasicProperties(correlation_id=properties.correlation_id),\n",
    "                     body=response)\n",
    "\n",
    "    ch.basic_ack(delivery_tag=method.delivery_tag)\n",
    "\n",
    "channel.queue_declare(queue='rpc_queue')\n",
    "channel.basic_consume(queue='rpc_queue', on_message_callback=on_request)\n",
    "print(\" [*] Waiting for RPC requests... Run the next cell to send a request.\")"
   ]
  },
  {
   "cell_type": "markdown",
   "id": "036d9b28",
   "metadata": {},
   "source": [
    "## RPC request"
   ]
  },
  {
   "cell_type": "code",
   "execution_count": 19,
   "id": "049c729b",
   "metadata": {},
   "outputs": [
    {
     "name": "stdout",
     "output_type": "stream",
     "text": [
      " [x] Sending RPC request: 'hello'\n",
      " [✓] Received request: hola\n",
      " [✓] Got response: Processed: HOLA\n"
     ]
    }
   ],
   "source": [
    "import uuid\n",
    "\n",
    "response_queue = channel.queue_declare(queue='', exclusive=True).method.queue\n",
    "correlation_id = str(uuid.uuid4())\n",
    "response_received = None\n",
    "\n",
    "def on_response(ch, method, properties, body):\n",
    "    global response_received\n",
    "    if properties.correlation_id == correlation_id:\n",
    "        response_received = body.decode()\n",
    "\n",
    "channel.basic_consume(queue=response_queue, on_message_callback=on_response, auto_ack=True)\n",
    "\n",
    "print(\" [x] Sending RPC request: 'hello'\")\n",
    "channel.basic_publish(exchange='',\n",
    "                      routing_key='rpc_queue',\n",
    "                      properties=pika.BasicProperties(reply_to=response_queue, correlation_id=correlation_id),\n",
    "                      body=\"hola\")\n",
    "\n",
    "# Wait for response\n",
    "while response_received is None:\n",
    "    connection.process_data_events()\n",
    "\n",
    "print(f\" [✓] Got response: {response_received}\")"
   ]
  },
  {
   "cell_type": "markdown",
   "id": "65cfe016",
   "metadata": {},
   "source": [
    "## Producer"
   ]
  },
  {
   "cell_type": "code",
   "execution_count": 8,
   "id": "49b10fe2",
   "metadata": {},
   "outputs": [
    {
     "name": "stdout",
     "output_type": "stream",
     "text": [
      " [✓] Sent: Message 0\n",
      " [✓] Sent: Message 1\n",
      " [✓] Sent: Message 2\n",
      " [✓] Sent: Message 3\n",
      " [✓] Sent: Message 4\n",
      "Publisher finished!\n"
     ]
    }
   ],
   "source": [
    "import pika\n",
    "\n",
    "# 1️⃣ Connect to RabbitMQ\n",
    "connection = pika.BlockingConnection(pika.ConnectionParameters('localhost'))\n",
    "channel = connection.channel()\n",
    "\n",
    "# 2️⃣ Declare a Queue (Ensure it exists)\n",
    "channel.queue_declare(queue='message_queue', durable=True)\n",
    "\n",
    "# 3️⃣ Publish Messages\n",
    "for i in range(5):\n",
    "    message = f\"Message {i}\"\n",
    "    channel.basic_publish(\n",
    "        exchange='',\n",
    "        routing_key='message_queue',\n",
    "        body=message,\n",
    "        properties=pika.BasicProperties(delivery_mode=2)  # Message persistence\n",
    "    )\n",
    "    print(f\" [✓] Sent: {message}\")\n",
    "\n",
    "# 4️⃣ Close Connection\n",
    "connection.close()\n",
    "print(\"Publisher finished!\")"
   ]
  },
  {
   "cell_type": "code",
   "execution_count": null,
   "id": "201e3b8a",
   "metadata": {},
   "outputs": [],
   "source": []
  }
 ],
 "metadata": {
  "kernelspec": {
   "display_name": "Python 3 (ipykernel)",
   "language": "python",
   "name": "python3"
  },
  "language_info": {
   "codemirror_mode": {
    "name": "ipython",
    "version": 3
   },
   "file_extension": ".py",
   "mimetype": "text/x-python",
   "name": "python",
   "nbconvert_exporter": "python",
   "pygments_lexer": "ipython3",
   "version": "3.9.12"
  }
 },
 "nbformat": 4,
 "nbformat_minor": 5
}
